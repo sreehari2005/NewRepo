{
 "cells": [
  {
   "cell_type": "markdown",
   "id": "10baa0ca-1d2e-42b1-ae93-5d8d3b78db12",
   "metadata": {},
   "source": [
    "# Sets"
   ]
  },
  {
   "cell_type": "markdown",
   "id": "e68ec8ac-be25-4f41-88c6-b5061c6d08dc",
   "metadata": {},
   "source": [
    "### No duplicate Eliments"
   ]
  },
  {
   "cell_type": "code",
   "execution_count": 5,
   "id": "d128b13a-38f2-4068-b3a2-1ed42092efb8",
   "metadata": {},
   "outputs": [],
   "source": [
    "Set_var=set()"
   ]
  },
  {
   "cell_type": "code",
   "execution_count": 7,
   "id": "748befdb-7ce8-4a48-9005-be532760468a",
   "metadata": {},
   "outputs": [],
   "source": [
    "Set_var={1,2,3,4}"
   ]
  },
  {
   "cell_type": "code",
   "execution_count": 9,
   "id": "c2ee5c89-3540-44b8-9524-7af2e6bcf2f2",
   "metadata": {},
   "outputs": [
    {
     "data": {
      "text/plain": [
       "{1, 2, 3, 4}"
      ]
     },
     "execution_count": 9,
     "metadata": {},
     "output_type": "execute_result"
    }
   ],
   "source": [
    "Set_var"
   ]
  },
  {
   "cell_type": "code",
   "execution_count": 11,
   "id": "206af045-1691-4fbe-9ba5-a0664a9d81ed",
   "metadata": {},
   "outputs": [],
   "source": [
    "Set_var={1,2,3,4,2}"
   ]
  },
  {
   "cell_type": "code",
   "execution_count": 13,
   "id": "cdd4647d-f448-44b2-9fdd-1b14af13a5bb",
   "metadata": {},
   "outputs": [
    {
     "data": {
      "text/plain": [
       "{1, 2, 3, 4}"
      ]
     },
     "execution_count": 13,
     "metadata": {},
     "output_type": "execute_result"
    }
   ],
   "source": [
    "Set_var"
   ]
  },
  {
   "cell_type": "code",
   "execution_count": 15,
   "id": "259f294f-59ad-473d-a1b4-19b324580f86",
   "metadata": {},
   "outputs": [
    {
     "data": {
      "text/plain": [
       "set"
      ]
     },
     "execution_count": 15,
     "metadata": {},
     "output_type": "execute_result"
    }
   ],
   "source": [
    "type(Set_var)"
   ]
  },
  {
   "cell_type": "code",
   "execution_count": 17,
   "id": "8c46b62d-2ce7-48b3-b575-9945ceb98011",
   "metadata": {},
   "outputs": [],
   "source": [
    "Set_var.add('Hulk')"
   ]
  },
  {
   "cell_type": "code",
   "execution_count": 19,
   "id": "4c1bf6cf-998b-40e1-8c0e-2187f66d4cff",
   "metadata": {},
   "outputs": [
    {
     "data": {
      "text/plain": [
       "{1, 2, 3, 4, 'Hulk'}"
      ]
     },
     "execution_count": 19,
     "metadata": {},
     "output_type": "execute_result"
    }
   ],
   "source": [
    "Set_var\n"
   ]
  },
  {
   "cell_type": "code",
   "execution_count": 31,
   "id": "72b20378-3071-4913-ba50-2840a433cb5f",
   "metadata": {},
   "outputs": [],
   "source": [
    "set1={'Avengers','IronMan','Hitman'}\n",
    "set2={'Avengers','IronMan','Hitman','Hulk2'}"
   ]
  },
  {
   "cell_type": "code",
   "execution_count": 27,
   "id": "1806b987-bd8a-4b89-b5fb-13bf4e486fc4",
   "metadata": {},
   "outputs": [],
   "source": [
    "set2.difference_update(set1)"
   ]
  },
  {
   "cell_type": "code",
   "execution_count": 29,
   "id": "e090377b-36d0-4218-aeaf-85e3a6991546",
   "metadata": {},
   "outputs": [
    {
     "data": {
      "text/plain": [
       "{'Hulk2'}"
      ]
     },
     "execution_count": 29,
     "metadata": {},
     "output_type": "execute_result"
    }
   ],
   "source": [
    "set2"
   ]
  },
  {
   "cell_type": "code",
   "execution_count": 33,
   "id": "d5f9b552-3cf0-4d8c-abe7-25ff8b9c3ae9",
   "metadata": {},
   "outputs": [
    {
     "data": {
      "text/plain": [
       "{'Hulk2'}"
      ]
     },
     "execution_count": 33,
     "metadata": {},
     "output_type": "execute_result"
    }
   ],
   "source": [
    "set2.difference(set1)"
   ]
  },
  {
   "cell_type": "code",
   "execution_count": 35,
   "id": "250a0d50-8e89-4e19-ba8f-008c6cfd5abc",
   "metadata": {},
   "outputs": [
    {
     "data": {
      "text/plain": [
       "{'Avengers', 'Hitman', 'Hulk2', 'IronMan'}"
      ]
     },
     "execution_count": 35,
     "metadata": {},
     "output_type": "execute_result"
    }
   ],
   "source": [
    "set2"
   ]
  },
  {
   "cell_type": "code",
   "execution_count": 45,
   "id": "088b6b20-336e-4b65-8e75-27446aaad5cc",
   "metadata": {},
   "outputs": [],
   "source": [
    "set1={'Avengers','IronMan','Hitman'}\n",
    "set2={'Avengers','IronMan','Hitman','Hulk2'}"
   ]
  },
  {
   "cell_type": "code",
   "execution_count": 41,
   "id": "fe3115c8-835d-4a59-9f6b-1fae576ad2d6",
   "metadata": {},
   "outputs": [
    {
     "data": {
      "text/plain": [
       "{'Avengers', 'Hitman', 'IronMan'}"
      ]
     },
     "execution_count": 41,
     "metadata": {},
     "output_type": "execute_result"
    }
   ],
   "source": [
    "set2.intersection(set1)"
   ]
  },
  {
   "cell_type": "code",
   "execution_count": 43,
   "id": "fef45753-a9df-45a0-bf33-566a34ab8dba",
   "metadata": {},
   "outputs": [
    {
     "data": {
      "text/plain": [
       "{'Avengers', 'Hitman', 'Hulk2', 'IronMan'}"
      ]
     },
     "execution_count": 43,
     "metadata": {},
     "output_type": "execute_result"
    }
   ],
   "source": [
    "set2"
   ]
  },
  {
   "cell_type": "code",
   "execution_count": 47,
   "id": "35c8577f-fa14-4acc-a448-86a3e35123db",
   "metadata": {},
   "outputs": [],
   "source": [
    "set2.intersection_update(set1)"
   ]
  },
  {
   "cell_type": "code",
   "execution_count": 49,
   "id": "2ffbdbd1-31cd-4ac8-ac28-817139571bf0",
   "metadata": {},
   "outputs": [
    {
     "data": {
      "text/plain": [
       "{'Avengers', 'Hitman', 'IronMan'}"
      ]
     },
     "execution_count": 49,
     "metadata": {},
     "output_type": "execute_result"
    }
   ],
   "source": [
    "set2"
   ]
  },
  {
   "cell_type": "markdown",
   "id": "9fb961eb-5a00-4e80-9faf-cbe9d5903b03",
   "metadata": {},
   "source": [
    "# Dictionaries"
   ]
  },
  {
   "cell_type": "code",
   "execution_count": 54,
   "id": "44156929-1eb2-450a-b47a-9d5d8e260279",
   "metadata": {},
   "outputs": [],
   "source": [
    "my_dict={'C1':'Audi','C2':'BMW','C3':'Benz'}"
   ]
  },
  {
   "cell_type": "code",
   "execution_count": 58,
   "id": "6f73e620-effe-481c-ab20-d76abb45ba44",
   "metadata": {},
   "outputs": [
    {
     "data": {
      "text/plain": [
       "{'C1': 'Audi', 'C2': 'BMW', 'C3': 'Benz'}"
      ]
     },
     "execution_count": 58,
     "metadata": {},
     "output_type": "execute_result"
    }
   ],
   "source": [
    "my_dict"
   ]
  },
  {
   "cell_type": "code",
   "execution_count": 60,
   "id": "a07cbe1e-a3bc-4d64-910b-7923153e3db6",
   "metadata": {},
   "outputs": [
    {
     "data": {
      "text/plain": [
       "dict"
      ]
     },
     "execution_count": 60,
     "metadata": {},
     "output_type": "execute_result"
    }
   ],
   "source": [
    "type(my_dict)"
   ]
  },
  {
   "cell_type": "code",
   "execution_count": 62,
   "id": "49fe751a-95ca-4749-9686-45943a744590",
   "metadata": {},
   "outputs": [
    {
     "data": {
      "text/plain": [
       "'BMW'"
      ]
     },
     "execution_count": 62,
     "metadata": {},
     "output_type": "execute_result"
    }
   ],
   "source": [
    "my_dict['C2']"
   ]
  },
  {
   "cell_type": "code",
   "execution_count": 68,
   "id": "b40e068f-9e3b-49ec-897d-99d9891da600",
   "metadata": {},
   "outputs": [
    {
     "name": "stdout",
     "output_type": "stream",
     "text": [
      "C1\n",
      "C2\n",
      "C3\n"
     ]
    }
   ],
   "source": [
    "for x in my_dict:\n",
    "    print(x)\n",
    "    "
   ]
  },
  {
   "cell_type": "code",
   "execution_count": 72,
   "id": "cbb04895-17b2-409f-b0d3-7f1ff6b3ee12",
   "metadata": {},
   "outputs": [
    {
     "name": "stdout",
     "output_type": "stream",
     "text": [
      "Audi\n",
      "BMW\n",
      "Benz\n"
     ]
    }
   ],
   "source": [
    "for x in my_dict.values():\n",
    "    print(x)"
   ]
  },
  {
   "cell_type": "code",
   "execution_count": 74,
   "id": "b5eebfaf-c9f1-4a6a-ac4a-ff1afe8ad574",
   "metadata": {},
   "outputs": [
    {
     "name": "stdout",
     "output_type": "stream",
     "text": [
      "('C1', 'Audi')\n",
      "('C2', 'BMW')\n",
      "('C3', 'Benz')\n"
     ]
    }
   ],
   "source": [
    "for x in my_dict.items():\n",
    "    print(x)"
   ]
  },
  {
   "cell_type": "code",
   "execution_count": 76,
   "id": "8d22cb57-63aa-4512-85c1-9516d97e37bc",
   "metadata": {},
   "outputs": [],
   "source": [
    "my_dict['C4']='Nissan'"
   ]
  },
  {
   "cell_type": "code",
   "execution_count": 78,
   "id": "cace06eb-ba81-4c22-9ce6-d92990d5e593",
   "metadata": {},
   "outputs": [
    {
     "name": "stdout",
     "output_type": "stream",
     "text": [
      "('C1', 'Audi')\n",
      "('C2', 'BMW')\n",
      "('C3', 'Benz')\n",
      "('C4', 'Nissan')\n"
     ]
    }
   ],
   "source": [
    "for x in my_dict.items():\n",
    "    print(x)"
   ]
  },
  {
   "cell_type": "code",
   "execution_count": 80,
   "id": "9e201671-a12a-4e3f-b9cc-70d481c6e33f",
   "metadata": {},
   "outputs": [],
   "source": [
    "my_dict['C1']='Alto'"
   ]
  },
  {
   "cell_type": "code",
   "execution_count": 82,
   "id": "f7d35239-f41b-40b0-a5bc-df7cfd01319d",
   "metadata": {},
   "outputs": [
    {
     "data": {
      "text/plain": [
       "{'C1': 'Alto', 'C2': 'BMW', 'C3': 'Benz', 'C4': 'Nissan'}"
      ]
     },
     "execution_count": 82,
     "metadata": {},
     "output_type": "execute_result"
    }
   ],
   "source": [
    "my_dict"
   ]
  },
  {
   "cell_type": "markdown",
   "id": "3088308d-b4b8-4b5f-bde8-ce9a24f000aa",
   "metadata": {},
   "source": [
    "### Nested Dictionary"
   ]
  },
  {
   "cell_type": "code",
   "execution_count": 87,
   "id": "4d538f2f-e890-458a-91ef-2ebf2883689f",
   "metadata": {},
   "outputs": [],
   "source": [
    "c1_m={'Audi':1960}\n",
    "c2_m={'Nissan':1970}\n",
    "c3_m={'Ambassador':1980}\n",
    "car_type={'Car1':c1_m,'Car2':c2_m,'Car3':c3_m}"
   ]
  },
  {
   "cell_type": "code",
   "execution_count": 89,
   "id": "d4981c2d-5904-4ab2-bf01-66246dae729f",
   "metadata": {},
   "outputs": [
    {
     "data": {
      "text/plain": [
       "{'Car1': {'Audi': 1960},\n",
       " 'Car2': {'Nissan': 1970},\n",
       " 'Car3': {'Ambassador': 1980}}"
      ]
     },
     "execution_count": 89,
     "metadata": {},
     "output_type": "execute_result"
    }
   ],
   "source": [
    "car_type"
   ]
  },
  {
   "cell_type": "code",
   "execution_count": 91,
   "id": "44c2fcd5-87b0-4c6f-968b-5e675bffc051",
   "metadata": {},
   "outputs": [
    {
     "name": "stdout",
     "output_type": "stream",
     "text": [
      "{'Car1': {'Audi': 1960}, 'Car2': {'Nissan': 1970}, 'Car3': {'Ambassador': 1980}}\n"
     ]
    }
   ],
   "source": [
    "print(car_type)"
   ]
  },
  {
   "cell_type": "code",
   "execution_count": 93,
   "id": "50012542-f7df-42e3-b547-d04c4b5e2260",
   "metadata": {},
   "outputs": [
    {
     "data": {
      "text/plain": [
       "{'Ambassador': 1980}"
      ]
     },
     "execution_count": 93,
     "metadata": {},
     "output_type": "execute_result"
    }
   ],
   "source": [
    "car_type['Car3']"
   ]
  },
  {
   "cell_type": "code",
   "execution_count": 97,
   "id": "e91dfe8f-b0f1-4031-bd0c-f35ff86453af",
   "metadata": {},
   "outputs": [
    {
     "data": {
      "text/plain": [
       "1960"
      ]
     },
     "execution_count": 97,
     "metadata": {},
     "output_type": "execute_result"
    }
   ],
   "source": [
    "car_type['Car1']['Audi']"
   ]
  },
  {
   "cell_type": "markdown",
   "id": "53c82ad9-e650-4f15-a55a-b55087b3c430",
   "metadata": {},
   "source": [
    "# Tuples"
   ]
  },
  {
   "cell_type": "code",
   "execution_count": 102,
   "id": "4e82e277-5fbb-4f4e-a0a6-575805bed40a",
   "metadata": {},
   "outputs": [],
   "source": [
    "My_Tuples=tuple()"
   ]
  },
  {
   "cell_type": "code",
   "execution_count": 104,
   "id": "1256e860-625a-4e69-ac47-b82c1ca42846",
   "metadata": {},
   "outputs": [
    {
     "data": {
      "text/plain": [
       "tuple"
      ]
     },
     "execution_count": 104,
     "metadata": {},
     "output_type": "execute_result"
    }
   ],
   "source": [
    "type(My_Tuples)"
   ]
  },
  {
   "cell_type": "markdown",
   "id": "4af0cc2c-1f07-417d-b5b2-606ee51a66e7",
   "metadata": {},
   "source": [
    "## We cannot change the tuple"
   ]
  },
  {
   "cell_type": "code",
   "execution_count": 109,
   "id": "72fe8f41-e944-4e51-89ea-eb24f1009184",
   "metadata": {},
   "outputs": [],
   "source": [
    "My_Tuples=('A','B','C')"
   ]
  },
  {
   "cell_type": "code",
   "execution_count": 111,
   "id": "875d1df4-1467-4b06-9157-34b4ccf83f7a",
   "metadata": {},
   "outputs": [
    {
     "data": {
      "text/plain": [
       "'A'"
      ]
     },
     "execution_count": 111,
     "metadata": {},
     "output_type": "execute_result"
    }
   ],
   "source": [
    "My_Tuples[0]"
   ]
  },
  {
   "cell_type": "code",
   "execution_count": 113,
   "id": "0b16895c-8503-4046-bb9e-7fb81b398b5c",
   "metadata": {},
   "outputs": [
    {
     "name": "stdout",
     "output_type": "stream",
     "text": [
      "A\n",
      "B\n",
      "C\n"
     ]
    }
   ],
   "source": [
    "for x in My_Tuples:\n",
    "    print(x)"
   ]
  },
  {
   "cell_type": "code",
   "execution_count": 115,
   "id": "081a8f35-0a98-4f7f-baae-a28a4cfa4c85",
   "metadata": {},
   "outputs": [],
   "source": [
    "### Cannot support and item assignment"
   ]
  },
  {
   "cell_type": "code",
   "execution_count": null,
   "id": "56644521-041d-45de-bb25-81b666fde661",
   "metadata": {},
   "outputs": [],
   "source": []
  }
 ],
 "metadata": {
  "kernelspec": {
   "display_name": "Python [conda env:base] *",
   "language": "python",
   "name": "conda-base-py"
  },
  "language_info": {
   "codemirror_mode": {
    "name": "ipython",
    "version": 3
   },
   "file_extension": ".py",
   "mimetype": "text/x-python",
   "name": "python",
   "nbconvert_exporter": "python",
   "pygments_lexer": "ipython3",
   "version": "3.12.7"
  }
 },
 "nbformat": 4,
 "nbformat_minor": 5
}
