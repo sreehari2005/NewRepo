{
 "cells": [
  {
   "cell_type": "markdown",
   "id": "ea8fec49-53dc-4bf1-8dd1-706a48ecbca4",
   "metadata": {},
   "source": [
    "# Basics of python\n",
    "## Various Data Types\n",
    "## Variable\n",
    "## Variable Assignment\n",
    "## Print formating"
   ]
  },
  {
   "cell_type": "markdown",
   "id": "046d7f93-3f03-4258-9fc7-b93e6532a3bf",
   "metadata": {},
   "source": [
    "# Various Data Types in python\n",
    "## Numbers"
   ]
  },
  {
   "cell_type": "code",
   "execution_count": 9,
   "id": "fc4a8db0-86fe-49d1-a4d7-fc65a037774b",
   "metadata": {},
   "outputs": [
    {
     "data": {
      "text/plain": [
       "2"
      ]
     },
     "execution_count": 9,
     "metadata": {},
     "output_type": "execute_result"
    }
   ],
   "source": [
    "1+1"
   ]
  },
  {
   "cell_type": "code",
   "execution_count": 11,
   "id": "88e76792-a3dd-4793-ae2c-796cb7bb8b9f",
   "metadata": {},
   "outputs": [
    {
     "data": {
      "text/plain": [
       "20"
      ]
     },
     "execution_count": 11,
     "metadata": {},
     "output_type": "execute_result"
    }
   ],
   "source": [
    "4*5"
   ]
  },
  {
   "cell_type": "code",
   "execution_count": 14,
   "id": "2c7c9aae-c66a-4793-9656-a61cf5d3c2ff",
   "metadata": {},
   "outputs": [
    {
     "data": {
      "text/plain": [
       "5.0"
      ]
     },
     "execution_count": 14,
     "metadata": {},
     "output_type": "execute_result"
    }
   ],
   "source": [
    "10/2\n"
   ]
  },
  {
   "cell_type": "code",
   "execution_count": 16,
   "id": "0b9cff3b-1add-41e8-a5c8-8ffa6d0408e7",
   "metadata": {},
   "outputs": [
    {
     "data": {
      "text/plain": [
       "'StrStrStrStrStrStrStrStrStrStr'"
      ]
     },
     "execution_count": 16,
     "metadata": {},
     "output_type": "execute_result"
    }
   ],
   "source": [
    "10 * 'Str'"
   ]
  },
  {
   "cell_type": "markdown",
   "id": "76f23960-5126-41fb-b9ec-49d69a89a830",
   "metadata": {},
   "source": [
    "# Check Data Type"
   ]
  },
  {
   "cell_type": "code",
   "execution_count": 21,
   "id": "8371d489-c958-447c-9009-877d1d604542",
   "metadata": {},
   "outputs": [
    {
     "data": {
      "text/plain": [
       "int"
      ]
     },
     "execution_count": 21,
     "metadata": {},
     "output_type": "execute_result"
    }
   ],
   "source": [
    "type(2)"
   ]
  },
  {
   "cell_type": "code",
   "execution_count": 23,
   "id": "f64100c2-3bf6-4da5-9b60-ed9e600ae758",
   "metadata": {},
   "outputs": [
    {
     "data": {
      "text/plain": [
       "float"
      ]
     },
     "execution_count": 23,
     "metadata": {},
     "output_type": "execute_result"
    }
   ],
   "source": [
    "type(10.2)"
   ]
  },
  {
   "cell_type": "code",
   "execution_count": 25,
   "id": "09cb88a6-024d-442b-a173-d179a2e23fab",
   "metadata": {},
   "outputs": [
    {
     "data": {
      "text/plain": [
       "str"
      ]
     },
     "execution_count": 25,
     "metadata": {},
     "output_type": "execute_result"
    }
   ],
   "source": [
    "type(\"Hellow\")"
   ]
  },
  {
   "cell_type": "code",
   "execution_count": 27,
   "id": "ae973b2e-9898-4813-a309-de2963874848",
   "metadata": {},
   "outputs": [
    {
     "data": {
      "text/plain": [
       "bool"
      ]
     },
     "execution_count": 27,
     "metadata": {},
     "output_type": "execute_result"
    }
   ],
   "source": [
    "type(True)"
   ]
  },
  {
   "cell_type": "markdown",
   "id": "1be0ad74-9f3a-4413-9d52-d1e4fd7fab45",
   "metadata": {},
   "source": [
    "# Strings"
   ]
  },
  {
   "cell_type": "code",
   "execution_count": 30,
   "id": "1d2d797b-1404-4436-aa00-a60a5440fdfe",
   "metadata": {},
   "outputs": [
    {
     "data": {
      "text/plain": [
       "'Hello'"
      ]
     },
     "execution_count": 30,
     "metadata": {},
     "output_type": "execute_result"
    }
   ],
   "source": [
    "\"Hello\""
   ]
  },
  {
   "cell_type": "code",
   "execution_count": 32,
   "id": "120ffd1c-cfa9-4ee9-9ef1-a79a8f566bbb",
   "metadata": {},
   "outputs": [
    {
     "data": {
      "text/plain": [
       "'Sreehari'"
      ]
     },
     "execution_count": 32,
     "metadata": {},
     "output_type": "execute_result"
    }
   ],
   "source": [
    "\"Sreehari\""
   ]
  },
  {
   "cell_type": "code",
   "execution_count": 34,
   "id": "ce52b79d-a4a2-4362-8127-c421962354cd",
   "metadata": {},
   "outputs": [
    {
     "data": {
      "text/plain": [
       "str"
      ]
     },
     "execution_count": 34,
     "metadata": {},
     "output_type": "execute_result"
    }
   ],
   "source": [
    "type(\"Sreehari\")"
   ]
  },
  {
   "cell_type": "markdown",
   "id": "c2fbfe7b-d91d-48fb-94ed-b3d85368aeff",
   "metadata": {},
   "source": [
    "# Variable Assignment"
   ]
  },
  {
   "cell_type": "markdown",
   "id": "47c434ba-2596-40bf-a30a-412d09d7abbf",
   "metadata": {},
   "source": [
    "## Syntax Variable Name = Value"
   ]
  },
  {
   "cell_type": "code",
   "execution_count": 40,
   "id": "bf023a17-ce87-46a6-a895-0dfe05ea9b02",
   "metadata": {},
   "outputs": [],
   "source": [
    "a=10"
   ]
  },
  {
   "cell_type": "code",
   "execution_count": 42,
   "id": "00a63744-194b-4016-80a4-42cf41131f4d",
   "metadata": {},
   "outputs": [
    {
     "data": {
      "text/plain": [
       "int"
      ]
     },
     "execution_count": 42,
     "metadata": {},
     "output_type": "execute_result"
    }
   ],
   "source": [
    "type(a)"
   ]
  },
  {
   "cell_type": "code",
   "execution_count": 44,
   "id": "172ea605-2ad8-4e87-b84b-2f7fade000c9",
   "metadata": {},
   "outputs": [],
   "source": [
    "a ='Sreehari'"
   ]
  },
  {
   "cell_type": "code",
   "execution_count": 46,
   "id": "91ce26ea-f70d-4725-9ae1-d354532f6031",
   "metadata": {},
   "outputs": [
    {
     "data": {
      "text/plain": [
       "str"
      ]
     },
     "execution_count": 46,
     "metadata": {},
     "output_type": "execute_result"
    }
   ],
   "source": [
    "type(a)"
   ]
  },
  {
   "cell_type": "code",
   "execution_count": 48,
   "id": "9ee1609a-5759-4862-86cb-41b858e56177",
   "metadata": {},
   "outputs": [],
   "source": [
    "a=10\n",
    "b=20"
   ]
  },
  {
   "cell_type": "code",
   "execution_count": 50,
   "id": "a36d002b-d7b6-47ea-a288-48d26cf19080",
   "metadata": {},
   "outputs": [
    {
     "data": {
      "text/plain": [
       "30"
      ]
     },
     "execution_count": 50,
     "metadata": {},
     "output_type": "execute_result"
    }
   ],
   "source": [
    "a+b"
   ]
  },
  {
   "cell_type": "code",
   "execution_count": 52,
   "id": "4d0668a0-0284-4785-9d78-d11b6bfdbded",
   "metadata": {},
   "outputs": [
    {
     "data": {
      "text/plain": [
       "10"
      ]
     },
     "execution_count": 52,
     "metadata": {},
     "output_type": "execute_result"
    }
   ],
   "source": [
    "b-a"
   ]
  },
  {
   "cell_type": "code",
   "execution_count": 54,
   "id": "8706f11b-b5cf-40c8-a000-56f318d57282",
   "metadata": {},
   "outputs": [
    {
     "data": {
      "text/plain": [
       "2.0"
      ]
     },
     "execution_count": 54,
     "metadata": {},
     "output_type": "execute_result"
    }
   ],
   "source": [
    "b/a"
   ]
  },
  {
   "cell_type": "code",
   "execution_count": 56,
   "id": "bd4496c7-ba01-4842-b0c9-c3ed58625756",
   "metadata": {},
   "outputs": [
    {
     "data": {
      "text/plain": [
       "200"
      ]
     },
     "execution_count": 56,
     "metadata": {},
     "output_type": "execute_result"
    }
   ],
   "source": [
    "a*b"
   ]
  },
  {
   "cell_type": "markdown",
   "id": "ab8add5c-7dd6-4441-80d9-65da26e1bc21",
   "metadata": {},
   "source": [
    "## Various ways of printing"
   ]
  },
  {
   "cell_type": "code",
   "execution_count": 61,
   "id": "ef86eafc-4f81-44c8-8ca0-694b3250bac8",
   "metadata": {},
   "outputs": [
    {
     "name": "stdout",
     "output_type": "stream",
     "text": [
      "Hello\n"
     ]
    }
   ],
   "source": [
    "print(\"Hello\")\n"
   ]
  },
  {
   "cell_type": "code",
   "execution_count": 65,
   "id": "2e81bb56-9294-4e39-8d14-da063324affd",
   "metadata": {},
   "outputs": [],
   "source": [
    "FistName='Sreehari'\n",
    "LastName ='Alakkadan'"
   ]
  },
  {
   "cell_type": "code",
   "execution_count": 69,
   "id": "3b183fb4-0f0c-4296-87a0-d1bd88e93cbc",
   "metadata": {},
   "outputs": [
    {
     "name": "stdout",
     "output_type": "stream",
     "text": [
      "My First Name is Sreehari and Last Name is Alakkadan\n"
     ]
    }
   ],
   "source": [
    "print(\"My First Name is {} and Last Name is {}\".format(FistName,LastName))"
   ]
  },
  {
   "cell_type": "code",
   "execution_count": 71,
   "id": "8c73f857-75e8-4697-9d5c-90ee6b3548f0",
   "metadata": {},
   "outputs": [
    {
     "name": "stdout",
     "output_type": "stream",
     "text": [
      "My First Name is Sreehari and Last Name is Alakkadan\n"
     ]
    }
   ],
   "source": [
    "print(\"My First Name is {first} and Last Name is {last}\".format(first=FistName,last=LastName))"
   ]
  },
  {
   "cell_type": "code",
   "execution_count": 73,
   "id": "4ca3d5a8-35da-46e4-a2d0-11ce644b279e",
   "metadata": {},
   "outputs": [
    {
     "data": {
      "text/plain": [
       "5"
      ]
     },
     "execution_count": 73,
     "metadata": {},
     "output_type": "execute_result"
    }
   ],
   "source": [
    "len('Krish')"
   ]
  },
  {
   "cell_type": "code",
   "execution_count": 77,
   "id": "79bbc444-ce68-4330-83b4-f1d01666664e",
   "metadata": {},
   "outputs": [
    {
     "data": {
      "text/plain": [
       "list"
      ]
     },
     "execution_count": 77,
     "metadata": {},
     "output_type": "execute_result"
    }
   ],
   "source": [
    "type([2,4,5,6])"
   ]
  },
  {
   "cell_type": "code",
   "execution_count": null,
   "id": "a07198aa-9347-464c-a294-64a0f37dbec5",
   "metadata": {},
   "outputs": [],
   "source": []
  }
 ],
 "metadata": {
  "kernelspec": {
   "display_name": "Python [conda env:base] *",
   "language": "python",
   "name": "conda-base-py"
  },
  "language_info": {
   "codemirror_mode": {
    "name": "ipython",
    "version": 3
   },
   "file_extension": ".py",
   "mimetype": "text/x-python",
   "name": "python",
   "nbconvert_exporter": "python",
   "pygments_lexer": "ipython3",
   "version": "3.12.7"
  }
 },
 "nbformat": 4,
 "nbformat_minor": 5
}
