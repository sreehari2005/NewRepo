{
 "cells": [
  {
   "cell_type": "markdown",
   "id": "195f8378-94a1-49e1-9553-475c224bbccc",
   "metadata": {},
   "source": [
    "## Boolean Variables"
   ]
  },
  {
   "cell_type": "code",
   "execution_count": 2,
   "id": "dd39ae04-19dc-482a-bfd0-36869629a74b",
   "metadata": {},
   "outputs": [
    {
     "data": {
      "text/plain": [
       "bool"
      ]
     },
     "execution_count": 2,
     "metadata": {},
     "output_type": "execute_result"
    }
   ],
   "source": [
    "type(True)"
   ]
  },
  {
   "cell_type": "code",
   "execution_count": 3,
   "id": "50a09416-3ba2-4259-9e44-1b6185a63792",
   "metadata": {},
   "outputs": [
    {
     "name": "stdout",
     "output_type": "stream",
     "text": [
      "True False\n"
     ]
    }
   ],
   "source": [
    "print(True,False)"
   ]
  },
  {
   "cell_type": "code",
   "execution_count": 4,
   "id": "d7f8f5fc-645f-464e-800a-f8f89f83efaf",
   "metadata": {},
   "outputs": [],
   "source": [
    "my_str='Kerala123'"
   ]
  },
  {
   "cell_type": "code",
   "execution_count": 5,
   "id": "1c10dec0-a2e8-433d-98b7-2df355311fd2",
   "metadata": {},
   "outputs": [
    {
     "name": "stdout",
     "output_type": "stream",
     "text": [
      "True\n"
     ]
    }
   ],
   "source": [
    "print(my_str.isalnum()) "
   ]
  },
  {
   "cell_type": "code",
   "execution_count": 6,
   "id": "1200fb54-3c65-4613-8f70-6e0646fcdf5c",
   "metadata": {},
   "outputs": [
    {
     "name": "stdout",
     "output_type": "stream",
     "text": [
      "False\n"
     ]
    }
   ],
   "source": [
    "print(my_str.isalpha())"
   ]
  },
  {
   "cell_type": "code",
   "execution_count": 7,
   "id": "85ec06c3-361a-4cf5-9ce3-5a0a8fff7c0d",
   "metadata": {},
   "outputs": [
    {
     "name": "stdout",
     "output_type": "stream",
     "text": [
      "False\n"
     ]
    }
   ],
   "source": [
    "print(my_str.isdigit())"
   ]
  },
  {
   "cell_type": "code",
   "execution_count": 8,
   "id": "2df14982-5ca9-4a0d-b580-81ca2b16e410",
   "metadata": {},
   "outputs": [
    {
     "name": "stdout",
     "output_type": "stream",
     "text": [
      "True\n"
     ]
    }
   ],
   "source": [
    "print(my_str.istitle())"
   ]
  },
  {
   "cell_type": "code",
   "execution_count": 9,
   "id": "8babf928-b65f-4ff8-8dc4-b71c4e7d7e06",
   "metadata": {},
   "outputs": [
    {
     "name": "stdout",
     "output_type": "stream",
     "text": [
      "False\n"
     ]
    }
   ],
   "source": [
    "print(my_str.isupper())"
   ]
  },
  {
   "cell_type": "code",
   "execution_count": 10,
   "id": "cda1bb2f-48c0-46b1-8fa4-3d9d71cc2d11",
   "metadata": {},
   "outputs": [
    {
     "name": "stdout",
     "output_type": "stream",
     "text": [
      "False\n"
     ]
    }
   ],
   "source": [
    "print(my_str.islower())"
   ]
  },
  {
   "cell_type": "code",
   "execution_count": 11,
   "id": "d999eaac-ed82-4a94-ae79-36ed9c372424",
   "metadata": {},
   "outputs": [
    {
     "name": "stdout",
     "output_type": "stream",
     "text": [
      "False\n"
     ]
    }
   ],
   "source": [
    "print(my_str.isspace())"
   ]
  },
  {
   "cell_type": "code",
   "execution_count": 12,
   "id": "3490c768-dc25-4825-ba7e-7058a9321f35",
   "metadata": {},
   "outputs": [
    {
     "name": "stdout",
     "output_type": "stream",
     "text": [
      "True\n"
     ]
    }
   ],
   "source": [
    "print(my_str.endswith('3'))"
   ]
  },
  {
   "cell_type": "code",
   "execution_count": 13,
   "id": "4d1c58c2-295c-4322-9828-f6e98f841b0c",
   "metadata": {},
   "outputs": [
    {
     "name": "stdout",
     "output_type": "stream",
     "text": [
      "True\n"
     ]
    }
   ],
   "source": [
    "print(my_str.startswith('K'))"
   ]
  },
  {
   "cell_type": "markdown",
   "id": "e9e59ec0-3b38-4385-8d1c-193779dd2151",
   "metadata": {},
   "source": [
    "## Boolean and Logical Operators"
   ]
  },
  {
   "cell_type": "code",
   "execution_count": 15,
   "id": "857eeecb-f378-4d95-b71c-41f67cb317ad",
   "metadata": {},
   "outputs": [
    {
     "data": {
      "text/plain": [
       "True"
      ]
     },
     "execution_count": 15,
     "metadata": {},
     "output_type": "execute_result"
    }
   ],
   "source": [
    "True and True"
   ]
  },
  {
   "cell_type": "code",
   "execution_count": 16,
   "id": "df870940-43a8-406b-8db7-63c1878e7306",
   "metadata": {},
   "outputs": [
    {
     "data": {
      "text/plain": [
       "False"
      ]
     },
     "execution_count": 16,
     "metadata": {},
     "output_type": "execute_result"
    }
   ],
   "source": [
    "True and False"
   ]
  },
  {
   "cell_type": "code",
   "execution_count": 17,
   "id": "5660939b-c16f-408f-a694-5c7aeeced1dc",
   "metadata": {},
   "outputs": [
    {
     "data": {
      "text/plain": [
       "True"
      ]
     },
     "execution_count": 17,
     "metadata": {},
     "output_type": "execute_result"
    }
   ],
   "source": [
    "True or False"
   ]
  },
  {
   "cell_type": "code",
   "execution_count": 18,
   "id": "89190053-d11b-4eb3-9cfb-b5754cb9b38d",
   "metadata": {},
   "outputs": [
    {
     "data": {
      "text/plain": [
       "True"
      ]
     },
     "execution_count": 18,
     "metadata": {},
     "output_type": "execute_result"
    }
   ],
   "source": [
    "True or True"
   ]
  },
  {
   "cell_type": "code",
   "execution_count": 19,
   "id": "f5eadf23-1c72-4e9e-8d00-3152e2c04493",
   "metadata": {},
   "outputs": [],
   "source": [
    "str_example='Hello World'\n",
    "my_str='Krish'"
   ]
  },
  {
   "cell_type": "code",
   "execution_count": 20,
   "id": "6aa04c54-0e03-4882-8082-ada42a3c2dee",
   "metadata": {},
   "outputs": [
    {
     "data": {
      "text/plain": [
       "True"
      ]
     },
     "execution_count": 20,
     "metadata": {},
     "output_type": "execute_result"
    }
   ],
   "source": [
    "my_str.isalpha()"
   ]
  },
  {
   "cell_type": "code",
   "execution_count": 21,
   "id": "444ece91-42b2-4f2d-9d2a-038855c16097",
   "metadata": {},
   "outputs": [
    {
     "data": {
      "text/plain": [
       "False"
      ]
     },
     "execution_count": 21,
     "metadata": {},
     "output_type": "execute_result"
    }
   ],
   "source": [
    "str_example.isnumeric()"
   ]
  },
  {
   "cell_type": "code",
   "execution_count": 22,
   "id": "5f0d044d-8f43-412b-8161-56106df85e81",
   "metadata": {},
   "outputs": [
    {
     "data": {
      "text/plain": [
       "False"
      ]
     },
     "execution_count": 22,
     "metadata": {},
     "output_type": "execute_result"
    }
   ],
   "source": [
    "my_str.isalpha() and str_example.isnumeric()"
   ]
  },
  {
   "cell_type": "code",
   "execution_count": 23,
   "id": "abc5009a-349c-4432-a17a-f492ef6e3d51",
   "metadata": {},
   "outputs": [
    {
     "data": {
      "text/plain": [
       "True"
      ]
     },
     "execution_count": 23,
     "metadata": {},
     "output_type": "execute_result"
    }
   ],
   "source": [
    "my_str.isalpha() or str_example.isnumeric()"
   ]
  },
  {
   "cell_type": "markdown",
   "id": "dfb070a9-84c0-446c-a4c1-fa13a936e19a",
   "metadata": {},
   "source": [
    "## List"
   ]
  },
  {
   "cell_type": "code",
   "execution_count": 25,
   "id": "161c7836-3e2a-4664-86b6-81a98ce6319f",
   "metadata": {},
   "outputs": [
    {
     "data": {
      "text/plain": [
       "list"
      ]
     },
     "execution_count": 25,
     "metadata": {},
     "output_type": "execute_result"
    }
   ],
   "source": [
    "type([])"
   ]
  },
  {
   "cell_type": "code",
   "execution_count": 26,
   "id": "b6307c10-7be3-473d-86b5-0c345f99ed43",
   "metadata": {},
   "outputs": [],
   "source": [
    "lst_example=[]"
   ]
  },
  {
   "cell_type": "code",
   "execution_count": 27,
   "id": "77a35589-2373-41a0-8f6f-fc24463246c2",
   "metadata": {},
   "outputs": [
    {
     "data": {
      "text/plain": [
       "list"
      ]
     },
     "execution_count": 27,
     "metadata": {},
     "output_type": "execute_result"
    }
   ],
   "source": [
    "type(lst_example)"
   ]
  },
  {
   "cell_type": "code",
   "execution_count": 28,
   "id": "5de6ca11-98b8-43c8-80ee-28ce5c6df0ed",
   "metadata": {},
   "outputs": [],
   "source": [
    "lst=list()"
   ]
  },
  {
   "cell_type": "code",
   "execution_count": 29,
   "id": "35aad026-7a98-48e4-81aa-0a8aa948b668",
   "metadata": {},
   "outputs": [
    {
     "data": {
      "text/plain": [
       "list"
      ]
     },
     "execution_count": 29,
     "metadata": {},
     "output_type": "execute_result"
    }
   ],
   "source": [
    "type(lst)"
   ]
  },
  {
   "cell_type": "code",
   "execution_count": 30,
   "id": "4ce75963-8247-4ced-8c2c-b0c3f425afe8",
   "metadata": {},
   "outputs": [],
   "source": [
    "lst=['Mathematics', 'chemistry', 100, 200, 300, 204]"
   ]
  },
  {
   "cell_type": "code",
   "execution_count": 31,
   "id": "5113fc4d-d386-4f1d-9d61-76eec90f564a",
   "metadata": {},
   "outputs": [
    {
     "data": {
      "text/plain": [
       "6"
      ]
     },
     "execution_count": 31,
     "metadata": {},
     "output_type": "execute_result"
    }
   ],
   "source": [
    "len(lst)"
   ]
  },
  {
   "cell_type": "code",
   "execution_count": 32,
   "id": "4b695327-fbeb-46e0-82bd-e137140a0b4a",
   "metadata": {},
   "outputs": [
    {
     "data": {
      "text/plain": [
       "list"
      ]
     },
     "execution_count": 32,
     "metadata": {},
     "output_type": "execute_result"
    }
   ],
   "source": [
    "type(lst)"
   ]
  },
  {
   "cell_type": "markdown",
   "id": "dda2375a-daa4-40c3-8496-9aa078745e72",
   "metadata": {},
   "source": [
    "#### Append to List"
   ]
  },
  {
   "cell_type": "code",
   "execution_count": 34,
   "id": "f9f811da-120e-4b2d-a6e9-16d845d735ea",
   "metadata": {},
   "outputs": [],
   "source": [
    "lst.append(\"Sree\")"
   ]
  },
  {
   "cell_type": "code",
   "execution_count": 35,
   "id": "17a64dc5-8a6c-45cd-8415-f8179a27704e",
   "metadata": {},
   "outputs": [
    {
     "data": {
      "text/plain": [
       "['Mathematics', 'chemistry', 100, 200, 300, 204, 'Sree']"
      ]
     },
     "execution_count": 35,
     "metadata": {},
     "output_type": "execute_result"
    }
   ],
   "source": [
    "lst"
   ]
  },
  {
   "cell_type": "code",
   "execution_count": 36,
   "id": "06515a92-03de-4f56-be08-040fc01ab5bd",
   "metadata": {},
   "outputs": [],
   "source": [
    "lst.append([\"John\",\"Bala\"])"
   ]
  },
  {
   "cell_type": "code",
   "execution_count": 37,
   "id": "a2e274a7-e0b7-4d26-9d89-dfafd478f408",
   "metadata": {},
   "outputs": [
    {
     "data": {
      "text/plain": [
       "['Mathematics', 'chemistry', 100, 200, 300, 204, 'Sree', ['John', 'Bala']]"
      ]
     },
     "execution_count": 37,
     "metadata": {},
     "output_type": "execute_result"
    }
   ],
   "source": [
    "lst"
   ]
  },
  {
   "cell_type": "code",
   "execution_count": 38,
   "id": "028e299c-ad0e-4709-9da5-b4793c62dd98",
   "metadata": {},
   "outputs": [
    {
     "data": {
      "text/plain": [
       "'Sree'"
      ]
     },
     "execution_count": 38,
     "metadata": {},
     "output_type": "execute_result"
    }
   ],
   "source": [
    "lst[6]"
   ]
  },
  {
   "cell_type": "code",
   "execution_count": 39,
   "id": "0633045b-7f11-408f-b08b-c5b071a54a4e",
   "metadata": {},
   "outputs": [
    {
     "data": {
      "text/plain": [
       "'Mathematics'"
      ]
     },
     "execution_count": 39,
     "metadata": {},
     "output_type": "execute_result"
    }
   ],
   "source": [
    "lst[0]"
   ]
  },
  {
   "cell_type": "code",
   "execution_count": 40,
   "id": "5c3ecfcf-a6b2-4d8b-86d0-01aae211c053",
   "metadata": {},
   "outputs": [
    {
     "data": {
      "text/plain": [
       "['John', 'Bala']"
      ]
     },
     "execution_count": 40,
     "metadata": {},
     "output_type": "execute_result"
    }
   ],
   "source": [
    "lst[-1]"
   ]
  },
  {
   "cell_type": "markdown",
   "id": "d899bb75-7080-4497-b410-ad3383d92b72",
   "metadata": {},
   "source": [
    "#### Insert"
   ]
  },
  {
   "cell_type": "code",
   "execution_count": 42,
   "id": "6d126d87-bdba-43d8-99b3-a7d30ab73341",
   "metadata": {},
   "outputs": [],
   "source": [
    "lst.insert(2,\"Naik\")"
   ]
  },
  {
   "cell_type": "code",
   "execution_count": 43,
   "id": "17712613-defd-4e71-9d68-34ca77084278",
   "metadata": {},
   "outputs": [
    {
     "data": {
      "text/plain": [
       "['Mathematics',\n",
       " 'chemistry',\n",
       " 'Naik',\n",
       " 100,\n",
       " 200,\n",
       " 300,\n",
       " 204,\n",
       " 'Sree',\n",
       " ['John', 'Bala']]"
      ]
     },
     "execution_count": 43,
     "metadata": {},
     "output_type": "execute_result"
    }
   ],
   "source": [
    "lst"
   ]
  },
  {
   "cell_type": "code",
   "execution_count": 44,
   "id": "4ffadb2e-15ca-49b6-a24b-7b9bf554c896",
   "metadata": {},
   "outputs": [],
   "source": [
    "lst.append([\"Hello\",\"World\"])"
   ]
  },
  {
   "cell_type": "code",
   "execution_count": 45,
   "id": "21899173-c6ee-4888-8613-2e244183247d",
   "metadata": {},
   "outputs": [
    {
     "data": {
      "text/plain": [
       "['Mathematics',\n",
       " 'chemistry',\n",
       " 'Naik',\n",
       " 100,\n",
       " 200,\n",
       " 300,\n",
       " 204,\n",
       " 'Sree',\n",
       " ['John', 'Bala'],\n",
       " ['Hello', 'World']]"
      ]
     },
     "execution_count": 45,
     "metadata": {},
     "output_type": "execute_result"
    }
   ],
   "source": [
    "lst"
   ]
  },
  {
   "cell_type": "code",
   "execution_count": 46,
   "id": "e6aba3bd-c7a6-4b36-b104-b4fb8b2ad2e6",
   "metadata": {},
   "outputs": [],
   "source": [
    "lst.insert(1,[\"India\",\"Kerala\"])"
   ]
  },
  {
   "cell_type": "code",
   "execution_count": 47,
   "id": "7503d07e-3e92-48b7-bd1d-61396a0b939a",
   "metadata": {},
   "outputs": [
    {
     "data": {
      "text/plain": [
       "['Mathematics',\n",
       " ['India', 'Kerala'],\n",
       " 'chemistry',\n",
       " 'Naik',\n",
       " 100,\n",
       " 200,\n",
       " 300,\n",
       " 204,\n",
       " 'Sree',\n",
       " ['John', 'Bala'],\n",
       " ['Hello', 'World']]"
      ]
     },
     "execution_count": 47,
     "metadata": {},
     "output_type": "execute_result"
    }
   ],
   "source": [
    "lst"
   ]
  },
  {
   "cell_type": "code",
   "execution_count": 94,
   "id": "72adae16-f568-4e6e-a8f9-87ea332d58f4",
   "metadata": {},
   "outputs": [
    {
     "data": {
      "text/plain": [
       "[['India', 'Kerala'],\n",
       " 'chemistry',\n",
       " 'Naik',\n",
       " 100,\n",
       " 200,\n",
       " 300,\n",
       " 204,\n",
       " 'Sree',\n",
       " ['John', 'Bala'],\n",
       " ['Hello', 'World']]"
      ]
     },
     "execution_count": 94,
     "metadata": {},
     "output_type": "execute_result"
    }
   ],
   "source": [
    "lst[1:]"
   ]
  },
  {
   "cell_type": "code",
   "execution_count": 96,
   "id": "c71ad12b-8d21-4dc9-b365-41d090e8f58a",
   "metadata": {},
   "outputs": [
    {
     "data": {
      "text/plain": [
       "[['India', 'Kerala'], 'chemistry', 'Naik', 100]"
      ]
     },
     "execution_count": 96,
     "metadata": {},
     "output_type": "execute_result"
    }
   ],
   "source": [
    "lst[1:5]"
   ]
  },
  {
   "cell_type": "code",
   "execution_count": 98,
   "id": "0d3b5b95-55e5-4200-a1ca-faef944fbb12",
   "metadata": {},
   "outputs": [
    {
     "data": {
      "text/plain": [
       "[['India', 'Kerala'],\n",
       " 'chemistry',\n",
       " 'Naik',\n",
       " 100,\n",
       " 200,\n",
       " 300,\n",
       " 204,\n",
       " 'Sree',\n",
       " ['John', 'Bala']]"
      ]
     },
     "execution_count": 98,
     "metadata": {},
     "output_type": "execute_result"
    }
   ],
   "source": [
    "lst[1:-1]"
   ]
  },
  {
   "cell_type": "markdown",
   "id": "f2596ebe-aa8d-4d03-978e-ea9882ea08fa",
   "metadata": {},
   "source": [
    "#### Extend Method"
   ]
  },
  {
   "cell_type": "code",
   "execution_count": 101,
   "id": "6c061a91-ecc8-4a72-b6b4-c44fd4ab75d3",
   "metadata": {},
   "outputs": [],
   "source": [
    "lst=[1,2,3,4,5,6]"
   ]
  },
  {
   "cell_type": "code",
   "execution_count": 103,
   "id": "fc4e6451-8f66-45b7-8c22-13992f659545",
   "metadata": {},
   "outputs": [],
   "source": [
    "lst.extend([8,9])"
   ]
  },
  {
   "cell_type": "code",
   "execution_count": 105,
   "id": "488be766-a1b2-4850-8982-4961aab73d17",
   "metadata": {},
   "outputs": [
    {
     "data": {
      "text/plain": [
       "[1, 2, 3, 4, 5, 6, 8, 9]"
      ]
     },
     "execution_count": 105,
     "metadata": {},
     "output_type": "execute_result"
    }
   ],
   "source": [
    "lst"
   ]
  },
  {
   "cell_type": "markdown",
   "id": "569a1671-2f6d-4ae6-9106-60dc43ba8570",
   "metadata": {},
   "source": [
    "#### Various Operations that we can perform in List"
   ]
  },
  {
   "cell_type": "code",
   "execution_count": 110,
   "id": "67510a54-a4e5-41a8-8676-3f4345ea6971",
   "metadata": {},
   "outputs": [],
   "source": [
    "lst=[1,2,3,4,5]"
   ]
  },
  {
   "cell_type": "code",
   "execution_count": 112,
   "id": "b1e63466-3e37-4d54-8f30-2f565d9e0508",
   "metadata": {},
   "outputs": [
    {
     "data": {
      "text/plain": [
       "15"
      ]
     },
     "execution_count": 112,
     "metadata": {},
     "output_type": "execute_result"
    }
   ],
   "source": [
    "sum(lst)"
   ]
  },
  {
   "cell_type": "code",
   "execution_count": 114,
   "id": "d6914229-f256-4ab7-88f6-76e35d718566",
   "metadata": {},
   "outputs": [
    {
     "data": {
      "text/plain": [
       "[1, 2, 3, 4, 5, 1, 2, 3, 4, 5, 1, 2, 3, 4, 5, 1, 2, 3, 4, 5, 1, 2, 3, 4, 5]"
      ]
     },
     "execution_count": 114,
     "metadata": {},
     "output_type": "execute_result"
    }
   ],
   "source": [
    "lst*5"
   ]
  },
  {
   "cell_type": "markdown",
   "id": "ae662164-08d5-4615-813d-0cd6cc4d35dc",
   "metadata": {},
   "source": [
    "#### Pop() Method"
   ]
  },
  {
   "cell_type": "code",
   "execution_count": 117,
   "id": "4fe0ca2b-0dd8-4250-a804-dd0f249b133e",
   "metadata": {},
   "outputs": [
    {
     "data": {
      "text/plain": [
       "[1, 2, 3, 4, 5]"
      ]
     },
     "execution_count": 117,
     "metadata": {},
     "output_type": "execute_result"
    }
   ],
   "source": [
    "lst"
   ]
  },
  {
   "cell_type": "code",
   "execution_count": 119,
   "id": "3f155a77-faaf-4fd6-9a55-a51b99074f58",
   "metadata": {},
   "outputs": [
    {
     "data": {
      "text/plain": [
       "5"
      ]
     },
     "execution_count": 119,
     "metadata": {},
     "output_type": "execute_result"
    }
   ],
   "source": [
    "lst.pop()"
   ]
  },
  {
   "cell_type": "code",
   "execution_count": 121,
   "id": "ccdce10d-dc64-4f39-8f10-37b752789a8b",
   "metadata": {},
   "outputs": [
    {
     "data": {
      "text/plain": [
       "1"
      ]
     },
     "execution_count": 121,
     "metadata": {},
     "output_type": "execute_result"
    }
   ],
   "source": [
    "lst.pop(0)"
   ]
  },
  {
   "cell_type": "code",
   "execution_count": 136,
   "id": "f6124a01-f9bf-4780-b336-e1590fcddddc",
   "metadata": {},
   "outputs": [
    {
     "data": {
      "text/plain": [
       "[1, 1, 2, 3, 4, 5]"
      ]
     },
     "execution_count": 136,
     "metadata": {},
     "output_type": "execute_result"
    }
   ],
   "source": [
    "lst"
   ]
  },
  {
   "cell_type": "markdown",
   "id": "29abcf40-9813-4f13-9cfe-46ad5e4104a9",
   "metadata": {},
   "source": [
    "#### count():Calculates total occurrence of given element of List"
   ]
  },
  {
   "cell_type": "code",
   "execution_count": 144,
   "id": "74287111-ff11-4826-9b90-67392489bf49",
   "metadata": {},
   "outputs": [
    {
     "data": {
      "text/plain": [
       "2"
      ]
     },
     "execution_count": 144,
     "metadata": {},
     "output_type": "execute_result"
    }
   ],
   "source": [
    "lst=[1,1,2,8,4,5]\n",
    "lst.count(1)"
   ]
  },
  {
   "cell_type": "code",
   "execution_count": 130,
   "id": "849ebac9-3214-4fa4-9821-a3d2e3351da8",
   "metadata": {},
   "outputs": [
    {
     "data": {
      "text/plain": [
       "0"
      ]
     },
     "execution_count": 130,
     "metadata": {},
     "output_type": "execute_result"
    }
   ],
   "source": [
    "lst.index(1)"
   ]
  },
  {
   "cell_type": "code",
   "execution_count": 146,
   "id": "6e65d544-9799-43ca-a20c-c0ee50fc178a",
   "metadata": {},
   "outputs": [
    {
     "data": {
      "text/plain": [
       "3"
      ]
     },
     "execution_count": 146,
     "metadata": {},
     "output_type": "execute_result"
    }
   ],
   "source": [
    "lst.index(8,1,4)"
   ]
  },
  {
   "cell_type": "code",
   "execution_count": 148,
   "id": "8b436a43-ec6f-4322-96ec-ce4e8b141e3c",
   "metadata": {},
   "outputs": [
    {
     "data": {
      "text/plain": [
       "1"
      ]
     },
     "execution_count": 148,
     "metadata": {},
     "output_type": "execute_result"
    }
   ],
   "source": [
    "min(lst)"
   ]
  },
  {
   "cell_type": "code",
   "execution_count": 150,
   "id": "9978ced9-372b-4228-9886-14adb0859f11",
   "metadata": {},
   "outputs": [
    {
     "data": {
      "text/plain": [
       "8"
      ]
     },
     "execution_count": 150,
     "metadata": {},
     "output_type": "execute_result"
    }
   ],
   "source": [
    "max(lst)"
   ]
  },
  {
   "cell_type": "code",
   "execution_count": null,
   "id": "507ead0b-9aa4-440b-a1df-599d8c97eb52",
   "metadata": {},
   "outputs": [],
   "source": []
  }
 ],
 "metadata": {
  "kernelspec": {
   "display_name": "Python [conda env:base] *",
   "language": "python",
   "name": "conda-base-py"
  },
  "language_info": {
   "codemirror_mode": {
    "name": "ipython",
    "version": 3
   },
   "file_extension": ".py",
   "mimetype": "text/x-python",
   "name": "python",
   "nbconvert_exporter": "python",
   "pygments_lexer": "ipython3",
   "version": "3.12.7"
  }
 },
 "nbformat": 4,
 "nbformat_minor": 5
}
